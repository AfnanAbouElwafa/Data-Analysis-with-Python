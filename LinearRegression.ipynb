{
  "nbformat": 4,
  "nbformat_minor": 0,
  "metadata": {
    "colab": {
      "provenance": []
    },
    "kernelspec": {
      "name": "python3",
      "display_name": "Python 3"
    },
    "language_info": {
      "name": "python"
    }
  },
  "cells": [
    {
      "cell_type": "code",
      "execution_count": null,
      "metadata": {
        "id": "iI2u5Yx_jAP0"
      },
      "outputs": [],
      "source": [
        "import pandas as pd\n",
        "import matplotlib.pylab as plt\n",
        "import matplotlib.pyplot\n",
        "import seaborn as sns\n",
        "from scipy import stats\n",
        "import numpy as np\n",
        "from sklearn.linear_model import LinearRegression\n",
        "from sklearn.preprocessing import PolynomialFeatures\n",
        "from sklearn.preprocessing import StandardScaler\n",
        "from sklearn.pipeline import Pipeline\n",
        "from sklearn.metrics import mean_squared_error"
      ]
    },
    {
      "cell_type": "code",
      "source": [
        "filename = \"https://cf-courses-data.s3.us.cloud-object-storage.appdomain.cloud/IBMDeveloperSkillsNetwork-DA0101EN-SkillsNetwork/labs/Data%20files/auto.csv\""
      ],
      "metadata": {
        "id": "fiUpvvAqjHl-"
      },
      "execution_count": null,
      "outputs": []
    },
    {
      "cell_type": "code",
      "source": [
        "headers = [\"symboling\",\"normalized-losses\",\"make\",\"fuel-type\",\"aspiration\", \"num-of-doors\",\"body-style\",\n",
        "         \"drive-wheels\",\"engine-location\",\"wheel-base\", \"length\",\"width\",\"height\",\"curb-weight\",\"engine-type\",\n",
        "         \"num-of-cylinders\", \"engine-size\",\"fuel-system\",\"bore\",\"stroke\",\"compression-ratio\",\"horsepower\",\n",
        "         \"peak-rpm\",\"city-mpg\",\"highway-mpg\",\"price\"]"
      ],
      "metadata": {
        "id": "1g2U1JL1jPDj"
      },
      "execution_count": null,
      "outputs": []
    },
    {
      "cell_type": "code",
      "source": [
        "df = pd.read_csv(filename, names = headers)\n",
        "\n",
        "df.head()"
      ],
      "metadata": {
        "colab": {
          "base_uri": "https://localhost:8080/",
          "height": 342
        },
        "id": "6twZCKtkjXWQ",
        "outputId": "e1dda1cd-c2c7-4eb2-d0e0-86c17cee0e26"
      },
      "execution_count": null,
      "outputs": [
        {
          "output_type": "execute_result",
          "data": {
            "text/plain": [
              "   symboling normalized-losses         make fuel-type aspiration num-of-doors  \\\n",
              "0          3                 ?  alfa-romero       gas        std          two   \n",
              "1          3                 ?  alfa-romero       gas        std          two   \n",
              "2          1                 ?  alfa-romero       gas        std          two   \n",
              "3          2               164         audi       gas        std         four   \n",
              "4          2               164         audi       gas        std         four   \n",
              "\n",
              "    body-style drive-wheels engine-location  wheel-base  ...  engine-size  \\\n",
              "0  convertible          rwd           front        88.6  ...          130   \n",
              "1  convertible          rwd           front        88.6  ...          130   \n",
              "2    hatchback          rwd           front        94.5  ...          152   \n",
              "3        sedan          fwd           front        99.8  ...          109   \n",
              "4        sedan          4wd           front        99.4  ...          136   \n",
              "\n",
              "   fuel-system  bore  stroke compression-ratio horsepower  peak-rpm city-mpg  \\\n",
              "0         mpfi  3.47    2.68               9.0        111      5000       21   \n",
              "1         mpfi  3.47    2.68               9.0        111      5000       21   \n",
              "2         mpfi  2.68    3.47               9.0        154      5000       19   \n",
              "3         mpfi  3.19    3.40              10.0        102      5500       24   \n",
              "4         mpfi  3.19    3.40               8.0        115      5500       18   \n",
              "\n",
              "  highway-mpg  price  \n",
              "0          27  13495  \n",
              "1          27  16500  \n",
              "2          26  16500  \n",
              "3          30  13950  \n",
              "4          22  17450  \n",
              "\n",
              "[5 rows x 26 columns]"
            ],
            "text/html": [
              "\n",
              "  <div id=\"df-2a96ae84-f4ad-4dc4-993e-2f92d32c5120\" class=\"colab-df-container\">\n",
              "    <div>\n",
              "<style scoped>\n",
              "    .dataframe tbody tr th:only-of-type {\n",
              "        vertical-align: middle;\n",
              "    }\n",
              "\n",
              "    .dataframe tbody tr th {\n",
              "        vertical-align: top;\n",
              "    }\n",
              "\n",
              "    .dataframe thead th {\n",
              "        text-align: right;\n",
              "    }\n",
              "</style>\n",
              "<table border=\"1\" class=\"dataframe\">\n",
              "  <thead>\n",
              "    <tr style=\"text-align: right;\">\n",
              "      <th></th>\n",
              "      <th>symboling</th>\n",
              "      <th>normalized-losses</th>\n",
              "      <th>make</th>\n",
              "      <th>fuel-type</th>\n",
              "      <th>aspiration</th>\n",
              "      <th>num-of-doors</th>\n",
              "      <th>body-style</th>\n",
              "      <th>drive-wheels</th>\n",
              "      <th>engine-location</th>\n",
              "      <th>wheel-base</th>\n",
              "      <th>...</th>\n",
              "      <th>engine-size</th>\n",
              "      <th>fuel-system</th>\n",
              "      <th>bore</th>\n",
              "      <th>stroke</th>\n",
              "      <th>compression-ratio</th>\n",
              "      <th>horsepower</th>\n",
              "      <th>peak-rpm</th>\n",
              "      <th>city-mpg</th>\n",
              "      <th>highway-mpg</th>\n",
              "      <th>price</th>\n",
              "    </tr>\n",
              "  </thead>\n",
              "  <tbody>\n",
              "    <tr>\n",
              "      <th>0</th>\n",
              "      <td>3</td>\n",
              "      <td>?</td>\n",
              "      <td>alfa-romero</td>\n",
              "      <td>gas</td>\n",
              "      <td>std</td>\n",
              "      <td>two</td>\n",
              "      <td>convertible</td>\n",
              "      <td>rwd</td>\n",
              "      <td>front</td>\n",
              "      <td>88.6</td>\n",
              "      <td>...</td>\n",
              "      <td>130</td>\n",
              "      <td>mpfi</td>\n",
              "      <td>3.47</td>\n",
              "      <td>2.68</td>\n",
              "      <td>9.0</td>\n",
              "      <td>111</td>\n",
              "      <td>5000</td>\n",
              "      <td>21</td>\n",
              "      <td>27</td>\n",
              "      <td>13495</td>\n",
              "    </tr>\n",
              "    <tr>\n",
              "      <th>1</th>\n",
              "      <td>3</td>\n",
              "      <td>?</td>\n",
              "      <td>alfa-romero</td>\n",
              "      <td>gas</td>\n",
              "      <td>std</td>\n",
              "      <td>two</td>\n",
              "      <td>convertible</td>\n",
              "      <td>rwd</td>\n",
              "      <td>front</td>\n",
              "      <td>88.6</td>\n",
              "      <td>...</td>\n",
              "      <td>130</td>\n",
              "      <td>mpfi</td>\n",
              "      <td>3.47</td>\n",
              "      <td>2.68</td>\n",
              "      <td>9.0</td>\n",
              "      <td>111</td>\n",
              "      <td>5000</td>\n",
              "      <td>21</td>\n",
              "      <td>27</td>\n",
              "      <td>16500</td>\n",
              "    </tr>\n",
              "    <tr>\n",
              "      <th>2</th>\n",
              "      <td>1</td>\n",
              "      <td>?</td>\n",
              "      <td>alfa-romero</td>\n",
              "      <td>gas</td>\n",
              "      <td>std</td>\n",
              "      <td>two</td>\n",
              "      <td>hatchback</td>\n",
              "      <td>rwd</td>\n",
              "      <td>front</td>\n",
              "      <td>94.5</td>\n",
              "      <td>...</td>\n",
              "      <td>152</td>\n",
              "      <td>mpfi</td>\n",
              "      <td>2.68</td>\n",
              "      <td>3.47</td>\n",
              "      <td>9.0</td>\n",
              "      <td>154</td>\n",
              "      <td>5000</td>\n",
              "      <td>19</td>\n",
              "      <td>26</td>\n",
              "      <td>16500</td>\n",
              "    </tr>\n",
              "    <tr>\n",
              "      <th>3</th>\n",
              "      <td>2</td>\n",
              "      <td>164</td>\n",
              "      <td>audi</td>\n",
              "      <td>gas</td>\n",
              "      <td>std</td>\n",
              "      <td>four</td>\n",
              "      <td>sedan</td>\n",
              "      <td>fwd</td>\n",
              "      <td>front</td>\n",
              "      <td>99.8</td>\n",
              "      <td>...</td>\n",
              "      <td>109</td>\n",
              "      <td>mpfi</td>\n",
              "      <td>3.19</td>\n",
              "      <td>3.40</td>\n",
              "      <td>10.0</td>\n",
              "      <td>102</td>\n",
              "      <td>5500</td>\n",
              "      <td>24</td>\n",
              "      <td>30</td>\n",
              "      <td>13950</td>\n",
              "    </tr>\n",
              "    <tr>\n",
              "      <th>4</th>\n",
              "      <td>2</td>\n",
              "      <td>164</td>\n",
              "      <td>audi</td>\n",
              "      <td>gas</td>\n",
              "      <td>std</td>\n",
              "      <td>four</td>\n",
              "      <td>sedan</td>\n",
              "      <td>4wd</td>\n",
              "      <td>front</td>\n",
              "      <td>99.4</td>\n",
              "      <td>...</td>\n",
              "      <td>136</td>\n",
              "      <td>mpfi</td>\n",
              "      <td>3.19</td>\n",
              "      <td>3.40</td>\n",
              "      <td>8.0</td>\n",
              "      <td>115</td>\n",
              "      <td>5500</td>\n",
              "      <td>18</td>\n",
              "      <td>22</td>\n",
              "      <td>17450</td>\n",
              "    </tr>\n",
              "  </tbody>\n",
              "</table>\n",
              "<p>5 rows × 26 columns</p>\n",
              "</div>\n",
              "    <div class=\"colab-df-buttons\">\n",
              "\n",
              "  <div class=\"colab-df-container\">\n",
              "    <button class=\"colab-df-convert\" onclick=\"convertToInteractive('df-2a96ae84-f4ad-4dc4-993e-2f92d32c5120')\"\n",
              "            title=\"Convert this dataframe to an interactive table.\"\n",
              "            style=\"display:none;\">\n",
              "\n",
              "  <svg xmlns=\"http://www.w3.org/2000/svg\" height=\"24px\" viewBox=\"0 -960 960 960\">\n",
              "    <path d=\"M120-120v-720h720v720H120Zm60-500h600v-160H180v160Zm220 220h160v-160H400v160Zm0 220h160v-160H400v160ZM180-400h160v-160H180v160Zm440 0h160v-160H620v160ZM180-180h160v-160H180v160Zm440 0h160v-160H620v160Z\"/>\n",
              "  </svg>\n",
              "    </button>\n",
              "\n",
              "  <style>\n",
              "    .colab-df-container {\n",
              "      display:flex;\n",
              "      gap: 12px;\n",
              "    }\n",
              "\n",
              "    .colab-df-convert {\n",
              "      background-color: #E8F0FE;\n",
              "      border: none;\n",
              "      border-radius: 50%;\n",
              "      cursor: pointer;\n",
              "      display: none;\n",
              "      fill: #1967D2;\n",
              "      height: 32px;\n",
              "      padding: 0 0 0 0;\n",
              "      width: 32px;\n",
              "    }\n",
              "\n",
              "    .colab-df-convert:hover {\n",
              "      background-color: #E2EBFA;\n",
              "      box-shadow: 0px 1px 2px rgba(60, 64, 67, 0.3), 0px 1px 3px 1px rgba(60, 64, 67, 0.15);\n",
              "      fill: #174EA6;\n",
              "    }\n",
              "\n",
              "    .colab-df-buttons div {\n",
              "      margin-bottom: 4px;\n",
              "    }\n",
              "\n",
              "    [theme=dark] .colab-df-convert {\n",
              "      background-color: #3B4455;\n",
              "      fill: #D2E3FC;\n",
              "    }\n",
              "\n",
              "    [theme=dark] .colab-df-convert:hover {\n",
              "      background-color: #434B5C;\n",
              "      box-shadow: 0px 1px 3px 1px rgba(0, 0, 0, 0.15);\n",
              "      filter: drop-shadow(0px 1px 2px rgba(0, 0, 0, 0.3));\n",
              "      fill: #FFFFFF;\n",
              "    }\n",
              "  </style>\n",
              "\n",
              "    <script>\n",
              "      const buttonEl =\n",
              "        document.querySelector('#df-2a96ae84-f4ad-4dc4-993e-2f92d32c5120 button.colab-df-convert');\n",
              "      buttonEl.style.display =\n",
              "        google.colab.kernel.accessAllowed ? 'block' : 'none';\n",
              "\n",
              "      async function convertToInteractive(key) {\n",
              "        const element = document.querySelector('#df-2a96ae84-f4ad-4dc4-993e-2f92d32c5120');\n",
              "        const dataTable =\n",
              "          await google.colab.kernel.invokeFunction('convertToInteractive',\n",
              "                                                    [key], {});\n",
              "        if (!dataTable) return;\n",
              "\n",
              "        const docLinkHtml = 'Like what you see? Visit the ' +\n",
              "          '<a target=\"_blank\" href=https://colab.research.google.com/notebooks/data_table.ipynb>data table notebook</a>'\n",
              "          + ' to learn more about interactive tables.';\n",
              "        element.innerHTML = '';\n",
              "        dataTable['output_type'] = 'display_data';\n",
              "        await google.colab.output.renderOutput(dataTable, element);\n",
              "        const docLink = document.createElement('div');\n",
              "        docLink.innerHTML = docLinkHtml;\n",
              "        element.appendChild(docLink);\n",
              "      }\n",
              "    </script>\n",
              "  </div>\n",
              "\n",
              "\n",
              "<div id=\"df-e1b14064-e7e4-4412-aa52-cb0c2894bbe9\">\n",
              "  <button class=\"colab-df-quickchart\" onclick=\"quickchart('df-e1b14064-e7e4-4412-aa52-cb0c2894bbe9')\"\n",
              "            title=\"Suggest charts.\"\n",
              "            style=\"display:none;\">\n",
              "\n",
              "<svg xmlns=\"http://www.w3.org/2000/svg\" height=\"24px\"viewBox=\"0 0 24 24\"\n",
              "     width=\"24px\">\n",
              "    <g>\n",
              "        <path d=\"M19 3H5c-1.1 0-2 .9-2 2v14c0 1.1.9 2 2 2h14c1.1 0 2-.9 2-2V5c0-1.1-.9-2-2-2zM9 17H7v-7h2v7zm4 0h-2V7h2v10zm4 0h-2v-4h2v4z\"/>\n",
              "    </g>\n",
              "</svg>\n",
              "  </button>\n",
              "\n",
              "<style>\n",
              "  .colab-df-quickchart {\n",
              "      --bg-color: #E8F0FE;\n",
              "      --fill-color: #1967D2;\n",
              "      --hover-bg-color: #E2EBFA;\n",
              "      --hover-fill-color: #174EA6;\n",
              "      --disabled-fill-color: #AAA;\n",
              "      --disabled-bg-color: #DDD;\n",
              "  }\n",
              "\n",
              "  [theme=dark] .colab-df-quickchart {\n",
              "      --bg-color: #3B4455;\n",
              "      --fill-color: #D2E3FC;\n",
              "      --hover-bg-color: #434B5C;\n",
              "      --hover-fill-color: #FFFFFF;\n",
              "      --disabled-bg-color: #3B4455;\n",
              "      --disabled-fill-color: #666;\n",
              "  }\n",
              "\n",
              "  .colab-df-quickchart {\n",
              "    background-color: var(--bg-color);\n",
              "    border: none;\n",
              "    border-radius: 50%;\n",
              "    cursor: pointer;\n",
              "    display: none;\n",
              "    fill: var(--fill-color);\n",
              "    height: 32px;\n",
              "    padding: 0;\n",
              "    width: 32px;\n",
              "  }\n",
              "\n",
              "  .colab-df-quickchart:hover {\n",
              "    background-color: var(--hover-bg-color);\n",
              "    box-shadow: 0 1px 2px rgba(60, 64, 67, 0.3), 0 1px 3px 1px rgba(60, 64, 67, 0.15);\n",
              "    fill: var(--button-hover-fill-color);\n",
              "  }\n",
              "\n",
              "  .colab-df-quickchart-complete:disabled,\n",
              "  .colab-df-quickchart-complete:disabled:hover {\n",
              "    background-color: var(--disabled-bg-color);\n",
              "    fill: var(--disabled-fill-color);\n",
              "    box-shadow: none;\n",
              "  }\n",
              "\n",
              "  .colab-df-spinner {\n",
              "    border: 2px solid var(--fill-color);\n",
              "    border-color: transparent;\n",
              "    border-bottom-color: var(--fill-color);\n",
              "    animation:\n",
              "      spin 1s steps(1) infinite;\n",
              "  }\n",
              "\n",
              "  @keyframes spin {\n",
              "    0% {\n",
              "      border-color: transparent;\n",
              "      border-bottom-color: var(--fill-color);\n",
              "      border-left-color: var(--fill-color);\n",
              "    }\n",
              "    20% {\n",
              "      border-color: transparent;\n",
              "      border-left-color: var(--fill-color);\n",
              "      border-top-color: var(--fill-color);\n",
              "    }\n",
              "    30% {\n",
              "      border-color: transparent;\n",
              "      border-left-color: var(--fill-color);\n",
              "      border-top-color: var(--fill-color);\n",
              "      border-right-color: var(--fill-color);\n",
              "    }\n",
              "    40% {\n",
              "      border-color: transparent;\n",
              "      border-right-color: var(--fill-color);\n",
              "      border-top-color: var(--fill-color);\n",
              "    }\n",
              "    60% {\n",
              "      border-color: transparent;\n",
              "      border-right-color: var(--fill-color);\n",
              "    }\n",
              "    80% {\n",
              "      border-color: transparent;\n",
              "      border-right-color: var(--fill-color);\n",
              "      border-bottom-color: var(--fill-color);\n",
              "    }\n",
              "    90% {\n",
              "      border-color: transparent;\n",
              "      border-bottom-color: var(--fill-color);\n",
              "    }\n",
              "  }\n",
              "</style>\n",
              "\n",
              "  <script>\n",
              "    async function quickchart(key) {\n",
              "      const quickchartButtonEl =\n",
              "        document.querySelector('#' + key + ' button');\n",
              "      quickchartButtonEl.disabled = true;  // To prevent multiple clicks.\n",
              "      quickchartButtonEl.classList.add('colab-df-spinner');\n",
              "      try {\n",
              "        const charts = await google.colab.kernel.invokeFunction(\n",
              "            'suggestCharts', [key], {});\n",
              "      } catch (error) {\n",
              "        console.error('Error during call to suggestCharts:', error);\n",
              "      }\n",
              "      quickchartButtonEl.classList.remove('colab-df-spinner');\n",
              "      quickchartButtonEl.classList.add('colab-df-quickchart-complete');\n",
              "    }\n",
              "    (() => {\n",
              "      let quickchartButtonEl =\n",
              "        document.querySelector('#df-e1b14064-e7e4-4412-aa52-cb0c2894bbe9 button');\n",
              "      quickchartButtonEl.style.display =\n",
              "        google.colab.kernel.accessAllowed ? 'block' : 'none';\n",
              "    })();\n",
              "  </script>\n",
              "</div>\n",
              "    </div>\n",
              "  </div>\n"
            ]
          },
          "metadata": {},
          "execution_count": 4
        }
      ]
    },
    {
      "cell_type": "code",
      "source": [
        "\n",
        "# replace \"?\" to NaN\n",
        "df.replace(\"?\", np.nan, inplace = True)"
      ],
      "metadata": {
        "id": "uY7mw9HnjgPy"
      },
      "execution_count": null,
      "outputs": []
    },
    {
      "cell_type": "code",
      "source": [
        "#handl NaN\n",
        "\n",
        "avg_norm_loss = df[\"normalized-losses\"].astype(\"float\").mean(axis=0)\n",
        "print(\"Average of normalized-losses:\", avg_norm_loss)\n",
        "df[\"normalized-losses\"].replace(np.nan, avg_norm_loss, inplace=True)\n",
        "\n",
        "avg_bore=df['bore'].astype('float').mean(axis=0)\n",
        "print(\"Average of bore:\", avg_bore)\n",
        "df[\"bore\"].replace(np.nan, avg_bore, inplace=True)\n",
        "\n",
        "str_avg = df[\"stroke\"].astype(\"float\").mean()\n",
        "df[\"stroke\"].replace(np.nan, str_avg, inplace = True)\n",
        "\n",
        "# simply drop whole row with NaN in \"price\" column\n",
        "df.dropna(subset=[\"price\"], axis=0, inplace=True)\n",
        "\n",
        "# reset index, because we droped two rows\n",
        "df.reset_index(drop=True, inplace=True)\n",
        "\n",
        "avg_horsepower = df[\"engine-size\"].astype('float').mean(axis=0)\n",
        "df[\"engine-size\"].replace(np.nan, avg_horsepower, inplace=True)\n",
        "\n",
        "avg_peak = df[\"peak-rpm\"].astype(\"float\").mean(axis=0)\n",
        "df[\"peak-rpm\"].replace(np.nan, avg_peak, inplace=True)\n",
        "\n",
        "avg_peak = df[\"horsepower\"].astype(\"float\").mean(axis=0)\n",
        "df[\"horsepower\"].replace(np.nan, avg_peak, inplace=True)\n",
        "\n",
        "avg = df[\"curb-weight\"].astype(\"float\").mean(axis=0)\n",
        "df[\"curb-weight\"].replace(np.nan, avg, inplace=True)\n",
        "\n",
        "avg_peak = df[\"highway-mpg\"].astype(\"float\").mean(axis=0)\n",
        "df[\"highway-mpg\"].replace(np.nan, avg_peak, inplace=True)\n",
        "\n",
        "df[[\"price\"]] = df[[\"price\"]].astype(\"int\")\n",
        "df[[\"horsepower\"]] = df[[\"horsepower\"]].astype(\"int\")\n",
        "df[[\"peak-rpm\"]] = df[[\"peak-rpm\"]].astype(\"int\")"
      ],
      "metadata": {
        "colab": {
          "base_uri": "https://localhost:8080/"
        },
        "id": "L0RWapzXkI5p",
        "outputId": "b2786459-f6ab-4d04-cd2c-1a70c047abc4"
      },
      "execution_count": null,
      "outputs": [
        {
          "output_type": "stream",
          "name": "stdout",
          "text": [
            "Average of normalized-losses: 122.0\n",
            "Average of bore: 3.3297512437810943\n"
          ]
        }
      ]
    },
    {
      "cell_type": "code",
      "source": [
        "df.dtypes"
      ],
      "metadata": {
        "colab": {
          "base_uri": "https://localhost:8080/"
        },
        "id": "xKt13idhmvHF",
        "outputId": "f5bf3df1-a980-41c1-b5e7-0cc766f22d00"
      },
      "execution_count": null,
      "outputs": [
        {
          "output_type": "execute_result",
          "data": {
            "text/plain": [
              "symboling              int64\n",
              "normalized-losses     object\n",
              "make                  object\n",
              "fuel-type             object\n",
              "aspiration            object\n",
              "num-of-doors          object\n",
              "body-style            object\n",
              "drive-wheels          object\n",
              "engine-location       object\n",
              "wheel-base           float64\n",
              "length               float64\n",
              "width                float64\n",
              "height               float64\n",
              "curb-weight            int64\n",
              "engine-type           object\n",
              "num-of-cylinders      object\n",
              "engine-size            int64\n",
              "fuel-system           object\n",
              "bore                  object\n",
              "stroke                object\n",
              "compression-ratio    float64\n",
              "horsepower             int64\n",
              "peak-rpm               int64\n",
              "city-mpg               int64\n",
              "highway-mpg            int64\n",
              "price                  int64\n",
              "dtype: object"
            ]
          },
          "metadata": {},
          "execution_count": 7
        }
      ]
    },
    {
      "cell_type": "code",
      "source": [
        "#create linear regression object\n",
        "lm=LinearRegression()\n",
        "\n",
        "#define predictor variable and target variable\n",
        "x = df[['highway-mpg']]\n",
        "x\n",
        "y = df['price']\n",
        "\n",
        "#fit the model, define parameters b0 b1\n",
        "lm.fit(x,y)\n",
        "\n",
        "#obtain prediction\n",
        "yhat = lm.predict(x)\n",
        "yhat"
      ],
      "metadata": {
        "colab": {
          "base_uri": "https://localhost:8080/"
        },
        "id": "NytM48molDw8",
        "outputId": "69b2375f-6b23-4900-b287-13b3a75fd2d5"
      },
      "execution_count": null,
      "outputs": [
        {
          "output_type": "execute_result",
          "data": {
            "text/plain": [
              "array([16236.50464347, 16236.50464347, 17058.23802179, 13771.3045085 ,\n",
              "       20345.17153508, 17879.97140011, 17879.97140011, 17879.97140011,\n",
              "       21988.63829172, 14593.03788682, 14593.03788682, 15414.77126514,\n",
              "       15414.77126514, 17879.97140011, 20345.17153508, 20345.17153508,\n",
              "       21988.63829172, -5128.5631929 ,  3088.77059031,  3088.77059031,\n",
              "        4732.23734696,  7197.43748192, 13771.3045085 ,  7197.43748192,\n",
              "        7197.43748192,  7197.43748192, 13771.3045085 , 13771.3045085 ,\n",
              "       18701.70477843, -5950.29657123,  7197.43748192,  3910.50396864,\n",
              "       10484.37099521, 10484.37099521, 10484.37099521, 10484.37099521,\n",
              "       11306.10437353, 11306.10437353, 11306.10437353, 11306.10437353,\n",
              "       15414.77126514, 12949.57113018, 14593.03788682, 14593.03788682,\n",
              "       22810.37167004, 22810.37167004, 24453.83842668, 12949.57113018,\n",
              "        7197.43748192,  7197.43748192,  7197.43748192,  7197.43748192,\n",
              "       19523.43815675, 19523.43815675, 19523.43815675, 19523.43815675,\n",
              "       12127.83775186, 12127.83775186, 12127.83775186, 12127.83775186,\n",
              "        3910.50396864, 12127.83775186, 16236.50464347,  6375.7041036 ,\n",
              "       17879.97140011, 17879.97140011, 17879.97140011, 17879.97140011,\n",
              "       23632.10504836, 23632.10504836, 25275.57180501, 25275.57180501,\n",
              "       18701.70477843,  4732.23734696,  7197.43748192,  7197.43748192,\n",
              "       13771.3045085 , 13771.3045085 , 12127.83775186, 18701.70477843,\n",
              "       18701.70477843, 18701.70477843, 12127.83775186, 12127.83775186,\n",
              "       13771.3045085 , 13771.3045085 ,  8019.17086025, -2663.36305794,\n",
              "        8019.17086025,  8019.17086025,  8019.17086025,  8019.17086025,\n",
              "        8019.17086025,  8019.17086025,  8019.17086025,  8019.17086025,\n",
              "       10484.37099521, 10484.37099521, 20345.17153508, 20345.17153508,\n",
              "       17879.97140011, 17879.97140011, 19523.43815675, 17879.97140011,\n",
              "       18701.70477843, 11306.10437353, 18701.70477843, 17879.97140011,\n",
              "       18701.70477843, 11306.10437353, 18701.70477843, 17879.97140011,\n",
              "       18701.70477843, 11306.10437353, 18701.70477843,  4732.23734696,\n",
              "       13771.3045085 ,  7197.43748192,  7197.43748192,  7197.43748192,\n",
              "       13771.3045085 , 18701.70477843, 16236.50464347, 17879.97140011,\n",
              "       17879.97140011, 17879.97140011, 12949.57113018, 12949.57113018,\n",
              "       15414.77126514, 15414.77126514, 15414.77126514, 15414.77126514,\n",
              "       17058.23802179, 17058.23802179,  8840.90423857, 12949.57113018,\n",
              "       12949.57113018,  8019.17086025, 11306.10437353, 12127.83775186,\n",
              "       17879.97140011, 14593.03788682, 12127.83775186, 12949.57113018,\n",
              "       14593.03788682, 19523.43815675,  6375.7041036 ,  7197.43748192,\n",
              "        7197.43748192,  8019.17086025, 12127.83775186, 12127.83775186,\n",
              "        8019.17086025,  8019.17086025,  8840.90423857,  -198.16292297,\n",
              "        -198.16292297, 10484.37099521, 10484.37099521, 10484.37099521,\n",
              "       10484.37099521, 14593.03788682, 14593.03788682, 13771.3045085 ,\n",
              "       13771.3045085 , 13771.3045085 , 13771.3045085 , 13771.3045085 ,\n",
              "       13771.3045085 , 10484.37099521, 11306.10437353, 12127.83775186,\n",
              "       12127.83775186, 12127.83775186, 18701.70477843, 18701.70477843,\n",
              "       18701.70477843, 18701.70477843,   623.57045535, 10484.37099521,\n",
              "         623.57045535, 10484.37099521, 10484.37099521,  3910.50396864,\n",
              "       12127.83775186, 14593.03788682, 14593.03788682, 18701.70477843,\n",
              "        7197.43748192, 12949.57113018, 15414.77126514, 15414.77126514,\n",
              "       15414.77126514, 15414.77126514, 20345.17153508, 20345.17153508,\n",
              "       15414.77126514, 17879.97140011, 19523.43815675, 16236.50464347,\n",
              "       17879.97140011])"
            ]
          },
          "metadata": {},
          "execution_count": 8
        }
      ]
    },
    {
      "cell_type": "code",
      "source": [
        "#intercept b0\n",
        "lm.intercept_\n",
        "\n",
        "#slope b1\n",
        "lm.coef_\n",
        "\n",
        "#relashioship btw pric and highway mpg\n",
        "#price = 38423-821.73(highway mpg)"
      ],
      "metadata": {
        "colab": {
          "base_uri": "https://localhost:8080/"
        },
        "id": "a4eQI_KSo-Y_",
        "outputId": "97fb30d5-8f41-4c06-ff79-d5a26bd31ecb"
      },
      "execution_count": null,
      "outputs": [
        {
          "output_type": "execute_result",
          "data": {
            "text/plain": [
              "array([-821.73337832])"
            ]
          },
          "metadata": {},
          "execution_count": 9
        }
      ]
    },
    {
      "cell_type": "markdown",
      "source": [
        "**Multiple Linear regression (MLR)**"
      ],
      "metadata": {
        "id": "_PRacGvUpxkX"
      }
    },
    {
      "cell_type": "code",
      "source": [
        "z = df[[\"horsepower\", \"curb-weight\", \"engine-size\", \"highway-mpg\"]]\n",
        "\n",
        "#train\n",
        "lm.fit(z,df[\"price\"])\n",
        "\n",
        "#predict\n",
        "yhat = lm.predict([[2,3,4,5]])\n",
        "yhat"
      ],
      "metadata": {
        "colab": {
          "base_uri": "https://localhost:8080/"
        },
        "id": "VaorqZ77p3Eg",
        "outputId": "e46bdc2c-19f2-422a-dd25-5921f6aa1556"
      },
      "execution_count": null,
      "outputs": [
        {
          "output_type": "stream",
          "name": "stderr",
          "text": [
            "/usr/local/lib/python3.10/dist-packages/sklearn/base.py:439: UserWarning: X does not have valid feature names, but LinearRegression was fitted with feature names\n",
            "  warnings.warn(\n"
          ]
        },
        {
          "output_type": "execute_result",
          "data": {
            "text/plain": [
              "array([-15201.9430331])"
            ]
          },
          "metadata": {},
          "execution_count": 10
        }
      ]
    },
    {
      "cell_type": "markdown",
      "source": [
        "**Model evaluating**"
      ],
      "metadata": {
        "id": "y_whs5dgsxet"
      }
    },
    {
      "cell_type": "code",
      "source": [
        "sns.regplot(x='highway-mpg', y= 'price', data=df)\n",
        "plt.ylim(0,)"
      ],
      "metadata": {
        "colab": {
          "base_uri": "https://localhost:8080/",
          "height": 466
        },
        "id": "HB4qoluns1gt",
        "outputId": "114cb3e6-f795-4e04-ff99-e13cdbd6e545"
      },
      "execution_count": null,
      "outputs": [
        {
          "output_type": "execute_result",
          "data": {
            "text/plain": [
              "(0.0, 48187.27788610386)"
            ]
          },
          "metadata": {},
          "execution_count": 11
        },
        {
          "output_type": "display_data",
          "data": {
            "text/plain": [
              "<Figure size 640x480 with 1 Axes>"
            ],
            "image/png": "[encoded data removed]"
          },
          "metadata": {}
        }
      ]
    },
    {
      "cell_type": "markdown",
      "source": [
        "**Residual Plot**"
      ],
      "metadata": {
        "id": "7XLjY4OBt5CM"
      }
    },
    {
      "cell_type": "markdown",
      "source": [
        "**Distribution Plot**"
      ],
      "metadata": {
        "id": "5qstvGRBuZEv"
      }
    },
    {
      "cell_type": "code",
      "source": [
        "axl = sns.distplot(df[\"price\"], hist=False, color = 'r', label='actual value')\n"
      ],
      "metadata": {
        "colab": {
          "base_uri": "https://localhost:8080/",
          "height": 656
        },
        "id": "t73ya7AWu3D3",
        "outputId": "76f5cd9b-ca19-4a8e-b80d-0c32c44c8a86"
      },
      "execution_count": null,
      "outputs": [
        {
          "output_type": "stream",
          "name": "stderr",
          "text": [
            "<ipython-input-13-f6ef65da4d02>:1: UserWarning: \n",
            "\n",
            "`distplot` is a deprecated function and will be removed in seaborn v0.14.0.\n",
            "\n",
            "Please adapt your code to use either `displot` (a figure-level function with\n",
            "similar flexibility) or `kdeplot` (an axes-level function for kernel density plots).\n",
            "\n",
            "For a guide to updating your code to use the new functions, please see\n",
            "https://gist.github.com/mwaskom/de44147ed2974457ad6372750bbe5751\n",
            "\n",
            "  axl = sns.distplot(df[\"price\"], hist=False, color = 'r', label='actual value')\n"
          ]
        },
        {
          "output_type": "display_data",
          "data": {
            "text/plain": [
              "<Figure size 640x480 with 1 Axes>"
            ],
            "image/png": "[encoded data removed]"
          },
          "metadata": {}
        }
      ]
    },
    {
      "cell_type": "code",
      "source": [
        "sns.distplot(yhat, hist=False, color = 'b', label='predicted value', ax=axl)"
      ],
      "metadata": {
        "id": "7ckwg6BnvwHf",
        "outputId": "c54f8464-aff4-40a9-c9f7-3fbd906d540d",
        "colab": {
          "base_uri": "https://localhost:8080/"
        }
      },
      "execution_count": null,
      "outputs": [
        {
          "output_type": "stream",
          "name": "stderr",
          "text": [
            "<ipython-input-14-3a1e510f0ba8>:1: UserWarning: \n",
            "\n",
            "`distplot` is a deprecated function and will be removed in seaborn v0.14.0.\n",
            "\n",
            "Please adapt your code to use either `displot` (a figure-level function with\n",
            "similar flexibility) or `kdeplot` (an axes-level function for kernel density plots).\n",
            "\n",
            "For a guide to updating your code to use the new functions, please see\n",
            "https://gist.github.com/mwaskom/de44147ed2974457ad6372750bbe5751\n",
            "\n",
            "  sns.distplot(yhat, hist=False, color = 'b', label='predicted value', ax=axl)\n",
            "/usr/local/lib/python3.10/dist-packages/seaborn/distributions.py:2511: UserWarning: Dataset has 0 variance; skipping density estimate. Pass `warn_singular=False` to disable this warning.\n",
            "  kdeplot(**{axis: a}, ax=ax, color=kde_color, **kde_kws)\n"
          ]
        },
        {
          "output_type": "execute_result",
          "data": {
            "text/plain": [
              "<Axes: xlabel='price', ylabel='Density'>"
            ]
          },
          "metadata": {},
          "execution_count": 14
        }
      ]
    },
    {
      "cell_type": "markdown",
      "source": [
        "**Polynomial Regression**"
      ],
      "metadata": {
        "id": "E2grojftoMp_"
      }
    },
    {
      "cell_type": "code",
      "source": [
        "#calculate polynomial if third order\n",
        "x = df[\"highway-mpg\"]\n",
        "y = df[\"price\"]\n",
        "f = np.polyfit(x,y,3)\n",
        "p = np.poly1d(f)\n",
        "print(p)"
      ],
      "metadata": {
        "colab": {
          "base_uri": "https://localhost:8080/"
        },
        "id": "IJbZje9PoPT0",
        "outputId": "bb32ed7d-75b2-4a19-a59d-024beb6582da"
      },
      "execution_count": null,
      "outputs": [
        {
          "output_type": "stream",
          "name": "stdout",
          "text": [
            "        3         2\n",
            "-1.557 x + 204.8 x - 8965 x + 1.379e+05\n"
          ]
        }
      ]
    },
    {
      "cell_type": "markdown",
      "source": [
        "**Polynomial Regression with more than one dimension**"
      ],
      "metadata": {
        "id": "QrV5HseMpu0T"
      }
    },
    {
      "cell_type": "code",
      "source": [
        "pr = PolynomialFeatures(degree=2, include_bias=False)\n",
        "#z = df[[\"horsepower\", \"curb-weight\", \"engine-size\", \"highway-mpg\"]]\n",
        "x_polly = pr.fit_transform([[1,2]])\n",
        "x_polly"
      ],
      "metadata": {
        "colab": {
          "base_uri": "https://localhost:8080/"
        },
        "id": "pXKTyKckqBNu",
        "outputId": "6ebb35bf-957a-45d9-9e90-2b9dfa08c93b"
      },
      "execution_count": null,
      "outputs": [
        {
          "output_type": "execute_result",
          "data": {
            "text/plain": [
              "array([[1., 2., 1., 2., 4.]])"
            ]
          },
          "metadata": {},
          "execution_count": 21
        }
      ]
    },
    {
      "cell_type": "markdown",
      "source": [
        "**Normalizing**"
      ],
      "metadata": {
        "id": "rGPap-ulrd17"
      }
    },
    {
      "cell_type": "code",
      "source": [
        "SCALE = StandardScaler()\n",
        "SCALE.fit(df[[\"horsepower\",\"highway-mpg\" ]])\n",
        "x_scale = SCALE.transform(df[[\"horsepower\",\"highway-mpg\" ]])\n",
        "x_scale"
      ],
      "metadata": {
        "colab": {
          "base_uri": "https://localhost:8080/"
        },
        "id": "xiDymT_9rdeT",
        "outputId": "8a72a71f-fcb8-47ad-c508-128528b4ee93"
      },
      "execution_count": null,
      "outputs": [
        {
          "output_type": "execute_result",
          "data": {
            "text/plain": [
              "array([[ 0.20409024, -0.54228772],\n",
              "       [ 0.20409024, -0.54228772],\n",
              "       [ 1.35775403, -0.689386  ],\n",
              "       [-0.03737428, -0.10099285],\n",
              "       [ 0.3114078 , -1.27777915],\n",
              "       [ 0.17726085, -0.83648429],\n",
              "       [ 0.17726085, -0.83648429],\n",
              "       [ 0.17726085, -0.83648429],\n",
              "       [ 0.98214257, -1.57197573],\n",
              "       [-0.06420367, -0.24809114],\n",
              "       [-0.06420367, -0.24809114],\n",
              "       [ 0.47238415, -0.39518943],\n",
              "       [ 0.47238415, -0.39518943],\n",
              "       [ 0.47238415, -0.83648429],\n",
              "       [ 2.10897697, -1.27777915],\n",
              "       [ 2.10897697, -1.27777915],\n",
              "       [ 2.10897697, -1.57197573],\n",
              "       [-1.48616137,  3.28226775],\n",
              "       [-0.89591477,  1.81128488],\n",
              "       [-0.89591477,  1.81128488],\n",
              "       [-0.94957356,  1.51708831],\n",
              "       [-0.94957356,  1.07579344],\n",
              "       [-0.03737428, -0.10099285],\n",
              "       [-0.94957356,  1.07579344],\n",
              "       [-0.94957356,  1.07579344],\n",
              "       [-0.94957356,  1.07579344],\n",
              "       [-0.03737428, -0.10099285],\n",
              "       [-0.41298574, -0.10099285],\n",
              "       [ 1.11628952, -0.98358258],\n",
              "       [-1.21786746,  3.42936604],\n",
              "       [-0.73493843,  1.07579344],\n",
              "       [-1.16420868,  1.66418659],\n",
              "       [-0.73493843,  0.48740029],\n",
              "       [-0.73493843,  0.48740029],\n",
              "       [-0.73493843,  0.48740029],\n",
              "       [-0.73493843,  0.48740029],\n",
              "       [-0.46664452,  0.34030201],\n",
              "       [-0.46664452,  0.34030201],\n",
              "       [-0.46664452,  0.34030201],\n",
              "       [-0.46664452,  0.34030201],\n",
              "       [-0.06420367, -0.39518943],\n",
              "       [-0.09103306,  0.04610543],\n",
              "       [-0.68127965, -0.24809114],\n",
              "       [-0.35932696, -0.24809114],\n",
              "       [ 1.94800063, -1.71907401],\n",
              "       [ 1.94800063, -1.71907401],\n",
              "       [ 4.25532822, -2.01327059],\n",
              "       [-0.94957356,  0.04610543],\n",
              "       [-0.94957356,  1.07579344],\n",
              "       [-0.94957356,  1.07579344],\n",
              "       [-0.94957356,  1.07579344],\n",
              "       [-0.94957356,  1.07579344],\n",
              "       [-0.06420367, -1.13068086],\n",
              "       [-0.06420367, -1.13068086],\n",
              "       [-0.06420367, -1.13068086],\n",
              "       [ 0.84799561, -1.13068086],\n",
              "       [-0.52030331,  0.19320372],\n",
              "       [-0.52030331,  0.19320372],\n",
              "       [-0.52030331,  0.19320372],\n",
              "       [-0.52030331,  0.19320372],\n",
              "       [-1.05689112,  1.66418659],\n",
              "       [-0.52030331,  0.19320372],\n",
              "       [ 0.44555476, -0.54228772],\n",
              "       [-0.84225599,  1.22289173],\n",
              "       [ 0.52604293, -0.83648429],\n",
              "       [ 0.52604293, -0.83648429],\n",
              "       [ 0.52604293, -0.83648429],\n",
              "       [ 0.52604293, -0.83648429],\n",
              "       [ 1.38458343, -1.8661723 ],\n",
              "       [ 1.38458343, -1.8661723 ],\n",
              "       [ 2.16263575, -2.16036887],\n",
              "       [ 2.16263575, -2.16036887],\n",
              "       [ 1.92117124, -0.98358258],\n",
              "       [-0.94957356,  1.51708831],\n",
              "       [-0.94957356,  1.07579344],\n",
              "       [-0.94957356,  1.07579344],\n",
              "       [-0.03737428, -0.10099285],\n",
              "       [ 0.33823719, -0.10099285],\n",
              "       [-0.41298574,  0.19320372],\n",
              "       [ 1.11628952, -0.98358258],\n",
              "       [ 1.11628952, -0.98358258],\n",
              "       [ 1.11628952, -0.98358258],\n",
              "       [-0.41298574,  0.19320372],\n",
              "       [-0.41298574,  0.19320372],\n",
              "       [ 0.33823719, -0.10099285],\n",
              "       [ 0.33823719, -0.10099285],\n",
              "       [-0.92274416,  0.92869516],\n",
              "       [-1.29835563,  2.84097289],\n",
              "       [-0.92274416,  0.92869516],\n",
              "       [-0.92274416,  0.92869516],\n",
              "       [-0.92274416,  0.92869516],\n",
              "       [-0.92274416,  0.92869516],\n",
              "       [-0.92274416,  0.92869516],\n",
              "       [-0.92274416,  0.92869516],\n",
              "       [-0.92274416,  0.92869516],\n",
              "       [-0.92274416,  0.92869516],\n",
              "       [-0.17152123,  0.48740029],\n",
              "       [-0.17152123,  0.48740029],\n",
              "       [ 1.30409525, -1.27777915],\n",
              "       [ 1.30409525, -1.27777915],\n",
              "       [ 1.30409525, -0.83648429],\n",
              "       [ 1.51873038, -0.83648429],\n",
              "       [ 2.591906  , -1.13068086],\n",
              "       [ 1.51873038, -0.83648429],\n",
              "       [-0.17152123, -0.98358258],\n",
              "       [-0.22518001,  0.34030201],\n",
              "       [-0.17152123, -0.98358258],\n",
              "       [-0.22518001, -0.83648429],\n",
              "       [-0.22518001, -0.98358258],\n",
              "       [-0.22518001,  0.34030201],\n",
              "       [-0.22518001, -0.98358258],\n",
              "       [-0.22518001, -0.83648429],\n",
              "       [-0.17152123, -0.98358258],\n",
              "       [-0.22518001,  0.34030201],\n",
              "       [ 1.03580135, -0.98358258],\n",
              "       [-0.94957356,  1.51708831],\n",
              "       [-0.03737428, -0.10099285],\n",
              "       [-0.94957356,  1.07579344],\n",
              "       [-0.94957356,  1.07579344],\n",
              "       [-0.94957356,  1.07579344],\n",
              "       [-0.41298574, -0.10099285],\n",
              "       [ 1.11628952, -0.98358258],\n",
              "       [ 1.06263074, -0.54228772],\n",
              "       [ 2.77971174, -0.83648429],\n",
              "       [ 2.77971174, -0.83648429],\n",
              "       [ 2.77971174, -0.83648429],\n",
              "       [-0.01054488,  0.04610543],\n",
              "       [-0.01054488,  0.04610543],\n",
              "       [ 0.17726085, -0.39518943],\n",
              "       [ 0.17726085, -0.39518943],\n",
              "       [ 0.17726085, -0.39518943],\n",
              "       [ 0.17726085, -0.39518943],\n",
              "       [ 1.51873038, -0.689386  ],\n",
              "       [ 1.51873038, -0.689386  ],\n",
              "       [-0.92274416,  0.78159687],\n",
              "       [-0.8154266 ,  0.04610543],\n",
              "       [-0.8154266 ,  0.04610543],\n",
              "       [-0.57396209,  0.92869516],\n",
              "       [-0.57396209,  0.34030201],\n",
              "       [-0.2520094 ,  0.19320372],\n",
              "       [-0.57396209, -0.83648429],\n",
              "       [ 0.20409024, -0.24809114],\n",
              "       [-0.57396209,  0.19320372],\n",
              "       [-0.2520094 ,  0.04610543],\n",
              "       [-0.57396209, -0.24809114],\n",
              "       [ 0.20409024, -1.13068086],\n",
              "       [-1.1105499 ,  1.22289173],\n",
              "       [-1.1105499 ,  1.07579344],\n",
              "       [-1.1105499 ,  1.07579344],\n",
              "       [-1.1105499 ,  0.92869516],\n",
              "       [-1.1105499 ,  0.19320372],\n",
              "       [-1.1105499 ,  0.19320372],\n",
              "       [-0.89591477,  0.92869516],\n",
              "       [-0.89591477,  0.92869516],\n",
              "       [-1.27152624,  0.78159687],\n",
              "       [-1.27152624,  2.39967803],\n",
              "       [-0.89591477,  2.39967803],\n",
              "       [-0.89591477,  0.48740029],\n",
              "       [-0.89591477,  0.48740029],\n",
              "       [-0.89591477,  0.48740029],\n",
              "       [-0.89591477,  0.48740029],\n",
              "       [ 0.23091963, -0.24809114],\n",
              "       [ 0.23091963, -0.24809114],\n",
              "       [ 0.33823719, -0.10099285],\n",
              "       [ 0.33823719, -0.10099285],\n",
              "       [ 0.33823719, -0.10099285],\n",
              "       [ 0.33823719, -0.10099285],\n",
              "       [ 0.33823719, -0.10099285],\n",
              "       [ 0.33823719, -0.10099285],\n",
              "       [-0.30566818,  0.48740029],\n",
              "       [-0.8154266 ,  0.34030201],\n",
              "       [-0.30566818,  0.19320372],\n",
              "       [-0.30566818,  0.19320372],\n",
              "       [-0.30566818,  0.19320372],\n",
              "       [ 1.54555977, -0.98358258],\n",
              "       [ 1.54555977, -0.98358258],\n",
              "       [ 1.41141282, -0.98358258],\n",
              "       [ 1.41141282, -0.98358258],\n",
              "       [-1.3788438 ,  2.25257974],\n",
              "       [-0.49347392,  0.48740029],\n",
              "       [-1.3788438 ,  2.25257974],\n",
              "       [-0.49347392,  0.48740029],\n",
              "       [-0.49347392,  0.48740029],\n",
              "       [-0.94957356,  1.66418659],\n",
              "       [-0.09103306,  0.19320372],\n",
              "       [-0.35932696, -0.24809114],\n",
              "       [-0.35932696, -0.24809114],\n",
              "       [ 0.17726085, -0.98358258],\n",
              "       [-0.94957356,  1.07579344],\n",
              "       [-0.41298574,  0.04610543],\n",
              "       [ 0.28457841, -0.39518943],\n",
              "       [ 0.28457841, -0.39518943],\n",
              "       [ 0.28457841, -0.39518943],\n",
              "       [ 0.28457841, -0.39518943],\n",
              "       [ 1.57238916, -1.27777915],\n",
              "       [ 1.57238916, -1.27777915],\n",
              "       [ 0.28457841, -0.39518943],\n",
              "       [ 1.51873038, -0.83648429],\n",
              "       [ 0.82116622, -1.13068086],\n",
              "       [ 0.06994329, -0.54228772],\n",
              "       [ 0.28457841, -0.83648429]])"
            ]
          },
          "metadata": {},
          "execution_count": 23
        }
      ]
    },
    {
      "cell_type": "markdown",
      "source": [
        "**Pipelines**\n",
        "Normlization --> Polynomial Transform --> Linear regression"
      ],
      "metadata": {
        "id": "9MDLK_KFsKFF"
      }
    },
    {
      "cell_type": "code",
      "source": [
        "from numpy.lib import polynomial\n",
        "input = [('scale', StandardScaler()), ('polynomial', PolynomialFeatures(degree=2)), ('mode', LinearRegression())]\n",
        "pip = Pipeline(input)\n",
        "Z = df[[\"horsepower\", \"curb-weight\", \"engine-size\", \"highway-mpg\"]]\n",
        "Y = df['price']\n",
        "pip.fit(Z,Y)\n",
        "yhat = pip.predict(X[[\"horsepower\", \"curb-weight\", \"engine-size\", \"highway-mpg\"]])"
      ],
      "metadata": {
        "colab": {
          "base_uri": "https://localhost:8080/"
        },
        "id": "JeoVRmoksagp",
        "outputId": "075af987-acaa-468c-81c3-ccf58564a435"
      },
      "execution_count": null,
      "outputs": [
        {
          "output_type": "execute_result",
          "data": {
            "text/plain": [
              "array([13103.67557905, 13103.67557905, 18229.84126783, 10394.17656982,\n",
              "       16132.61710554, 13878.51122869, 15040.02728884, 15456.82939524,\n",
              "       17970.56357234, 10513.39695705, 10513.39695705, 15846.98682865,\n",
              "       16069.32766554, 18545.97990377, 25223.60347567, 25177.53535046,\n",
              "       26516.23198422,  5902.09772552,  6230.56105306,  6270.26797569,\n",
              "        5978.26463607,  5832.68583287, 10114.32080588,  6061.12350009,\n",
              "        6118.25487011,  6118.25487011, 10047.97305843, 11298.48195706,\n",
              "       18337.16623951,  7341.69186767,  6424.136504  ,  5175.24190396,\n",
              "        6620.24349346,  6652.95977352,  6766.27331489,  6796.38028687,\n",
              "        8797.4978042 ,  8949.16311354,  8992.86874397,  9195.32515923,\n",
              "       10929.97948993, 10057.10461096,  9655.22737301, 12123.11090937,\n",
              "       36318.96050758, 36318.96050758, 41645.5887043 ,  5908.64417371,\n",
              "        5927.87890666,  5940.84374466,  6045.94154206,  6059.25115341,\n",
              "       10195.61726448, 10195.61726448, 10184.03870223, 15941.74595865,\n",
              "       10252.68765704, 10377.05532597, 10252.68765704, 10377.05532597,\n",
              "       10834.13566884, 10452.13562513, 14411.44322721, 13369.25936925,\n",
              "       23844.53489959, 25662.92273035, 23693.6859198 , 25821.58657282,\n",
              "       33462.12152847, 32971.45891359, 43672.98357777, 40886.69932699,\n",
              "       21723.49752686,  6134.78834775,  6084.55903118,  6253.41743129,\n",
              "       10095.81830599, 11861.74997358, 10015.28801156, 18327.46033773,\n",
              "       18296.05318856, 18294.62495725, 10168.80964833, 10337.13876745,\n",
              "       11796.42303486, 11796.42303486,  6140.37811939,  7980.66369631,\n",
              "        6235.19573583,  6301.3380352 ,  6592.73426447,  6344.65921372,\n",
              "        6606.56339614,  6411.81284826,  6637.76858347,  6537.66290994,\n",
              "        9878.42232046,  9838.59376149, 21541.56348031, 21943.61322902,\n",
              "       19966.4222166 , 20360.19893685, 26218.6808814 , 20346.13718652,\n",
              "       14815.51344165, 17553.61218143, 15858.58650105, 22517.39668078,\n",
              "       15233.09808276, 17957.80126973, 16372.33860157, 23025.36710612,\n",
              "       15082.16770328, 17957.80126973, 16253.73492006,  6058.02469442,\n",
              "       10114.32080588,  6061.12350009,  6118.25487011,  7232.13995168,\n",
              "       11298.48195706, 18333.99755092, 16679.15231839, 29496.97542659,\n",
              "       29496.97542659, 29143.3995462 , 12003.64278375, 11656.05884284,\n",
              "       12345.35220227, 12389.67036202, 12404.49432308, 12469.95783935,\n",
              "       18245.4233288 , 17951.75667852,  6697.79868183,  7991.61899714,\n",
              "        8630.36913844,  7947.00694679,  8390.03197591,  9431.58124701,\n",
              "       10468.79695179, 11302.75907463,  8850.57158416,  9800.82289726,\n",
              "        9841.07681815, 13095.57485675,  6053.39637264,  6241.89701464,\n",
              "        6141.46518549,  7289.36507598,  7658.39995397, 12738.45451732,\n",
              "        6869.67008968,  6967.33296956,  9269.69228822,  9459.2895625 ,\n",
              "        7177.41490487,  7132.99387664,  7207.09693853,  7327.5294851 ,\n",
              "        7474.59531541, 11476.62424752, 11387.66345853, 13428.85572763,\n",
              "       13419.74955764, 13454.02411198, 13760.52415675, 13848.7037227 ,\n",
              "       14565.46203248,  9808.21019918,  9874.95670323, 10407.7592272 ,\n",
              "       10407.7592272 , 10563.47751084, 20453.87600578, 20394.38860323,\n",
              "       19938.12485395, 19173.51816433,  8412.93641587,  8518.36565612,\n",
              "        8428.76042255,  8526.36288931,  8697.49049197,  7523.98600019,\n",
              "        9843.90537586,  9574.59794334,  9484.53600268, 14717.79227959,\n",
              "        8715.33987929, 10071.18040482, 14629.01742446, 15012.14051884,\n",
              "       14699.50099564, 15038.06015423, 19304.42389669, 18664.50800478,\n",
              "       14752.1185391 , 18030.63774809, 19825.95807679, 17324.92471762,\n",
              "       16292.52001481])"
            ]
          },
          "metadata": {},
          "execution_count": 26
        }
      ]
    },
    {
      "cell_type": "markdown",
      "source": [
        "**Measures for In-Sample Evaluation**"
      ],
      "metadata": {
        "id": "XfKAvhNVuKza"
      }
    },
    {
      "cell_type": "markdown",
      "source": [
        "Mean Squared Error: how close a regression line is to a set of points. It does this by taking the average distances from the actual points to the predicted points and squaring them.\n",
        "\n",
        "Less is better"
      ],
      "metadata": {
        "id": "B9YZgruovhA5"
      }
    },
    {
      "cell_type": "code",
      "source": [
        "#create linear regression object\n",
        "lm=LinearRegression()\n",
        "\n",
        "#define predictor variable and target variable\n",
        "X = df[['highway-mpg']]\n",
        "Y = df['price']\n",
        "\n",
        "#fit the model, define parameters b0 b1\n",
        "lm.fit(X,Y)\n",
        "\n",
        "#obtain prediction\n",
        "yhat = lm.predict(X)\n",
        "\n",
        "error = mean_squared_error(df['price'], yhat)\n",
        "error"
      ],
      "metadata": {
        "colab": {
          "base_uri": "https://localhost:8080/"
        },
        "id": "0j82EgmVuMmX",
        "outputId": "5a60d0b9-198d-450d-8f2a-ca0ae9aab5e6"
      },
      "execution_count": null,
      "outputs": [
        {
          "output_type": "execute_result",
          "data": {
            "text/plain": [
              "31635042.944639888"
            ]
          },
          "metadata": {},
          "execution_count": 44
        }
      ]
    },
    {
      "cell_type": "markdown",
      "source": [
        "R-Squared: the percentage of the variation in the response variable y  that is explained by the variation in explanatory variable(s) x.\n",
        "- 1 identical\n",
        "- 0 doesnot fit\n",
        "- negative overfitting"
      ],
      "metadata": {
        "id": "ojGvr1uTvkOr"
      }
    },
    {
      "cell_type": "code",
      "source": [
        "lm.score(X,yhat)"
      ],
      "metadata": {
        "colab": {
          "base_uri": "https://localhost:8080/"
        },
        "id": "FKg_7HdXvpgi",
        "outputId": "4fef6b55-79d1-4785-ac48-499e538c626f"
      },
      "execution_count": null,
      "outputs": [
        {
          "output_type": "execute_result",
          "data": {
            "text/plain": [
              "1.0"
            ]
          },
          "metadata": {},
          "execution_count": 33
        }
      ]
    },
    {
      "cell_type": "code",
      "source": [
        "x =np.array(30.0)\n",
        "#x.reshape(-1,1)\n",
        "lm.predict(x.reshape(-1,1))"
      ],
      "metadata": {
        "colab": {
          "base_uri": "https://localhost:8080/"
        },
        "id": "guZMfXU_w_Hv",
        "outputId": "5387c532-7c7c-4fdb-97aa-23c75bd49fba"
      },
      "execution_count": null,
      "outputs": [
        {
          "output_type": "stream",
          "name": "stderr",
          "text": [
            "/usr/local/lib/python3.10/dist-packages/sklearn/base.py:439: UserWarning: X does not have valid feature names, but LinearRegression was fitted with feature names\n",
            "  warnings.warn(\n"
          ]
        },
        {
          "output_type": "execute_result",
          "data": {
            "text/plain": [
              "array([13771.3045085])"
            ]
          },
          "metadata": {},
          "execution_count": 40
        }
      ]
    },
    {
      "cell_type": "code",
      "source": [
        "input = np.arange(1,101,1).reshape(-1,1)\n",
        "yhat = lm.predict(input)\n",
        "yhat"
      ],
      "metadata": {
        "colab": {
          "base_uri": "https://localhost:8080/"
        },
        "id": "6zrlq7bEyHjT",
        "outputId": "bcc6a9ee-d157-4a5b-cd53-08fb492e1e92"
      },
      "execution_count": null,
      "outputs": [
        {
          "output_type": "stream",
          "name": "stderr",
          "text": [
            "/usr/local/lib/python3.10/dist-packages/sklearn/base.py:439: UserWarning: X does not have valid feature names, but LinearRegression was fitted with feature names\n",
            "  warnings.warn(\n"
          ]
        },
        {
          "output_type": "execute_result",
          "data": {
            "text/plain": [
              "array([ 37601.57247984,  36779.83910151,  35958.10572319,  35136.37234487,\n",
              "        34314.63896655,  33492.90558823,  32671.1722099 ,  31849.43883158,\n",
              "        31027.70545326,  30205.97207494,  29384.23869662,  28562.50531829,\n",
              "        27740.77193997,  26919.03856165,  26097.30518333,  25275.57180501,\n",
              "        24453.83842668,  23632.10504836,  22810.37167004,  21988.63829172,\n",
              "        21166.9049134 ,  20345.17153508,  19523.43815675,  18701.70477843,\n",
              "        17879.97140011,  17058.23802179,  16236.50464347,  15414.77126514,\n",
              "        14593.03788682,  13771.3045085 ,  12949.57113018,  12127.83775186,\n",
              "        11306.10437353,  10484.37099521,   9662.63761689,   8840.90423857,\n",
              "         8019.17086025,   7197.43748192,   6375.7041036 ,   5553.97072528,\n",
              "         4732.23734696,   3910.50396864,   3088.77059031,   2267.03721199,\n",
              "         1445.30383367,    623.57045535,   -198.16292297,  -1019.8963013 ,\n",
              "        -1841.62967962,  -2663.36305794,  -3485.09643626,  -4306.82981458,\n",
              "        -5128.5631929 ,  -5950.29657123,  -6772.02994955,  -7593.76332787,\n",
              "        -8415.49670619,  -9237.23008451, -10058.96346284, -10880.69684116,\n",
              "       -11702.43021948, -12524.1635978 , -13345.89697612, -14167.63035445,\n",
              "       -14989.36373277, -15811.09711109, -16632.83048941, -17454.56386773,\n",
              "       -18276.29724606, -19098.03062438, -19919.7640027 , -20741.49738102,\n",
              "       -21563.23075934, -22384.96413767, -23206.69751599, -24028.43089431,\n",
              "       -24850.16427263, -25671.89765095, -26493.63102927, -27315.3644076 ,\n",
              "       -28137.09778592, -28958.83116424, -29780.56454256, -30602.29792088,\n",
              "       -31424.03129921, -32245.76467753, -33067.49805585, -33889.23143417,\n",
              "       -34710.96481249, -35532.69819082, -36354.43156914, -37176.16494746,\n",
              "       -37997.89832578, -38819.6317041 , -39641.36508243, -40463.09846075,\n",
              "       -41284.83183907, -42106.56521739, -42928.29859571, -43750.03197404])"
            ]
          },
          "metadata": {},
          "execution_count": 43
        }
      ]
    }
  ]
}